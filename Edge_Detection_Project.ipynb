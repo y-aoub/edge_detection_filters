{
 "cells": [
  {
   "cell_type": "markdown",
   "id": "a3eb85f3",
   "metadata": {},
   "source": [
    "# Méthodes de dérivées premières ($\\frac{\\partial }{\\partial x}, \\frac{\\partial }{\\partial y}$)"
   ]
  },
  {
   "cell_type": "markdown",
   "id": "d8f814d8",
   "metadata": {},
   "source": [
    "#### Importation & Paths des  images"
   ]
  },
  {
   "cell_type": "code",
   "execution_count": 5,
   "id": "1972565f",
   "metadata": {},
   "outputs": [],
   "source": [
    "import cv2 as cv\n",
    "import numpy as np\n",
    "\n",
    "paths = ['real_bone.jpg', 'sudoku.jpg', 'irm_brain.jpg', 'irm_hands.jpg']"
   ]
  },
  {
   "cell_type": "markdown",
   "id": "3b6fb4aa",
   "metadata": {},
   "source": [
    "#### Filtre du gradient selon $\\vec{x}$ "
   ]
  },
  {
   "cell_type": "code",
   "execution_count": null,
   "id": "65fcf49d",
   "metadata": {},
   "outputs": [],
   "source": [
    "def grad_x_edge_detector(img_path): \n",
    "    #définition des variables\n",
    "    scale = 1\n",
    "    delta = 0\n",
    "    ddepth = cv.CV_16S\n",
    "    #lecture d'image\n",
    "    src = cv.imread(img_path, cv.IMREAD_COLOR)\n",
    "    #filtrage du bruit par un filtre gaussien\n",
    "    src = cv.GaussianBlur(src, (3, 3), 0)\n",
    "    #transformation de l'image en échelle de gris\n",
    "    gray = cv.cvtColor(src, cv.COLOR_BGR2GRAY)\n",
    "    #calcul du gradient selon l'axe des ordonnées\n",
    "    grad_x = cv.Sobel(gray, ddepth, 1, 0, ksize=3, scale=scale, delta=delta, borderType=cv.BORDER_DEFAULT)\n",
    "    #transformation de l'image en uint8\n",
    "    abs_grad_x = cv.convertScaleAbs(grad_x)\n",
    "    #enregistrement des images\n",
    "    saved_filename = 'grad_x_' + path\n",
    "    cv.imwrite(saved_filename, abs_grad_x)\n",
    "\n",
    "for path in paths:\n",
    "    grad_x_edge_detector(path)"
   ]
  },
  {
   "cell_type": "markdown",
   "id": "e62e8433",
   "metadata": {},
   "source": [
    "#### Filtre du gradient selon $\\vec{y}$ "
   ]
  },
  {
   "cell_type": "code",
   "execution_count": null,
   "id": "7ce0b81f",
   "metadata": {},
   "outputs": [],
   "source": [
    "def grad_y_edge_detector(img_path): \n",
    "    #définition des variables\n",
    "    scale = 1\n",
    "    delta = 0\n",
    "    ddepth = cv.CV_16S\n",
    "    #lecture d'image\n",
    "    src = cv.imread(img_path, cv.IMREAD_COLOR)\n",
    "    #filtrage du bruit par un filtre gaussien\n",
    "    src = cv.GaussianBlur(src, (3, 3), 0)\n",
    "    #transformation de l'image en échelle de gris\n",
    "    gray = cv.cvtColor(src, cv.COLOR_BGR2GRAY)\n",
    "    #calcul du gradient selon l'axe des ordonnées\n",
    "    grad_y = cv.Sobel(gray, ddepth, 0, 1, ksize=3, scale=scale, delta=delta, borderType=cv.BORDER_DEFAULT)\n",
    "    #transformation de l'image en uint8\n",
    "    abs_grad_y = cv.convertScaleAbs(grad_y)\n",
    "    #enregistrement des images\n",
    "    saved_filename = 'grad_y_' + path\n",
    "    cv.imwrite(saved_filename, abs_grad_y)\n",
    "    \n",
    "for path in paths:\n",
    "    grad_y_edge_detector(path)"
   ]
  },
  {
   "cell_type": "markdown",
   "id": "fcbea1a7",
   "metadata": {},
   "source": [
    "#### Filtre de Sobel"
   ]
  },
  {
   "cell_type": "code",
   "execution_count": null,
   "id": "e5eaee3f",
   "metadata": {},
   "outputs": [],
   "source": [
    "def sobel_edge_detector(img_path):\n",
    "    #définition des variables\n",
    "    scale = 1\n",
    "    delta = 0\n",
    "    ddepth = cv.CV_16S\n",
    "    #lecture d'image   \n",
    "    src = cv.imread(argv[0], cv.IMREAD_COLOR)\n",
    "    #filtrage du bruit par un filtre gaussien\n",
    "    src = cv.GaussianBlur(src, (3, 3), 0)\n",
    "    #transformation de l'image en échelle de gris\n",
    "    gray = cv.cvtColor(src, cv.COLOR_BGR2GRAY)\n",
    "    #calcul du gradient selon l'axe des abscisses et l'axe des ordonnées\n",
    "    grad_x = cv.Sobel(gray, ddepth, 1, 0, ksize=3, scale=scale, delta=delta, borderType=cv.BORDER_DEFAULT)\n",
    "    grad_y = cv.Sobel(gray, ddepth, 0, 1, ksize=3, scale=scale, delta=delta, borderType=cv.BORDER_DEFAULT)\n",
    "    #transformation du grad_x et gradd_y en uint8\n",
    "    abs_grad_x = cv.convertScaleAbs(grad_x)\n",
    "    abs_grad_y = cv.convertScaleAbs(grad_y)\n",
    "    #calcul du gradient sur (x,y)\n",
    "    grad = cv.addWeighted(abs_grad_x, 0.5, abs_grad_y, 0.5, 0)\n",
    "    #enregistrement des images\n",
    "    saved_filename = 'sobel_' + path\n",
    "    cv.imwrite(saved_filename, grad)\n",
    "\n",
    "for path in paths:\n",
    "    sobel_edge_detector(path)"
   ]
  },
  {
   "cell_type": "markdown",
   "id": "66fd91a4",
   "metadata": {},
   "source": [
    "#### Filtre de Prewitt"
   ]
  },
  {
   "cell_type": "code",
   "execution_count": null,
   "id": "c17ad7c3",
   "metadata": {},
   "outputs": [],
   "source": [
    "def prewitt_edge_detector(img_path):\n",
    "    #lecture d'image   \n",
    "    src = cv.imread(img_path, cv.IMREAD_COLOR)\n",
    "    #filtrage du bruit par un filtre gaussien\n",
    "    src = cv.GaussianBlur(src, (3, 3), 0)\n",
    "    #transformation de l'image en échelle de gris\n",
    "    gray = cv.cvtColor(src, cv.COLOR_BGR2GRAY)\n",
    "    #construction du filtre selon les deux axes\n",
    "    kernel_x = np.array([[-1,0,1],[-1,0,1],[-1,0,1]])\n",
    "    kernel_y = np.array([[-1,-1,-1],[0,0,0],[1,1,1]])\n",
    "    #appliocation du filtre de prewitt selon l'axe des abscisses et des ordonnées\n",
    "    img_prewitt_x = cv.filter2D(gray, -1, kernel_x)\n",
    "    img_prewitt_y = cv.filter2D(gray, -1, kernel_y)\n",
    "    img_prewitt = img_prewitt_x + img_prewitt_y\n",
    "    #convertion de l'image finale en uint8\n",
    "    abs_prewitt = cv.convertScaleAbs(img_prewitt)\n",
    "    #enregistrement des images\n",
    "    saved_filename = 'prewitt_' + path\n",
    "    cv.imwrite(saved_filename, abs_prewitt)\n",
    "    \n",
    "for path in paths:\n",
    "    prewitt_edge_detector(path)"
   ]
  },
  {
   "cell_type": "markdown",
   "id": "8be8e1aa",
   "metadata": {},
   "source": [
    "#### Filtre de Roberts"
   ]
  },
  {
   "cell_type": "code",
   "execution_count": null,
   "id": "9e2842eb",
   "metadata": {},
   "outputs": [],
   "source": [
    "def roberts_edge_detector(img_path):\n",
    "    #lecture d'image   \n",
    "    src = cv.imread(img_path, cv.IMREAD_COLOR)\n",
    "    #filtrage du bruit par un filtre gaussien\n",
    "    src = cv.GaussianBlur(src, (3, 3), 0)\n",
    "    #transformation de l'image en échelle de gris\n",
    "    gray = cv.cvtColor(src, cv.COLOR_BGR2GRAY)\n",
    "    #construction du filtre selon les deux axes\n",
    "    kernel_x = np.array([[0,1],[-1,0]])\n",
    "    kernel_y = np.array([[1,0],[0,-1]])\n",
    "    #appliocation du filtre de prewitt selon l'axe des abscisses et des ordonnées\n",
    "    img_roberts_x = cv.filter2D(gray, -1, kernel_x)\n",
    "    img_roberts_y = cv.filter2D(gray, -1, kernel_y)\n",
    "    img_roberts = img_roberts_x + img_roberts_y\n",
    "    #convertion de l'image finale en uint8\n",
    "    abs_roberts = cv.convertScaleAbs(img_roberts)\n",
    "    #enregistrement des images\n",
    "    saved_filename = 'roberts_' + path\n",
    "    cv.imwrite(saved_filename, abs_roberts)\n",
    "    \n",
    "for path in paths:\n",
    "    roberts_edge_detector(path)"
   ]
  },
  {
   "cell_type": "markdown",
   "id": "897161e7",
   "metadata": {},
   "source": [
    "# Méthodes de dérivées secondes ($\\frac{\\partial^{2}}{\\partial x^{2}},\\frac{\\partial^{2}}{\\partial y^{2}}$)"
   ]
  },
  {
   "cell_type": "markdown",
   "id": "0a3acacd",
   "metadata": {},
   "source": [
    "#### Filtre Laplacien"
   ]
  },
  {
   "cell_type": "code",
   "execution_count": 2,
   "id": "9ceff0f7",
   "metadata": {
    "collapsed": true
   },
   "outputs": [
    {
     "ename": "NameError",
     "evalue": "name 'paths' is not defined",
     "output_type": "error",
     "traceback": [
      "\u001b[0;31m---------------------------------------------------------------------------\u001b[0m",
      "\u001b[0;31mNameError\u001b[0m                                 Traceback (most recent call last)",
      "\u001b[0;32m<ipython-input-2-a4c04f9511a4>\u001b[0m in \u001b[0;36m<module>\u001b[0;34m\u001b[0m\n\u001b[1;32m     17\u001b[0m     \u001b[0mcv\u001b[0m\u001b[0;34m.\u001b[0m\u001b[0mimwrite\u001b[0m\u001b[0;34m(\u001b[0m\u001b[0msaved_filename\u001b[0m\u001b[0;34m,\u001b[0m \u001b[0mabs_lap\u001b[0m\u001b[0;34m)\u001b[0m\u001b[0;34m\u001b[0m\u001b[0;34m\u001b[0m\u001b[0m\n\u001b[1;32m     18\u001b[0m \u001b[0;34m\u001b[0m\u001b[0m\n\u001b[0;32m---> 19\u001b[0;31m \u001b[0;32mfor\u001b[0m \u001b[0mpath\u001b[0m \u001b[0;32min\u001b[0m \u001b[0mpaths\u001b[0m\u001b[0;34m:\u001b[0m\u001b[0;34m\u001b[0m\u001b[0;34m\u001b[0m\u001b[0m\n\u001b[0m\u001b[1;32m     20\u001b[0m     \u001b[0mlaplacian_edge_detector\u001b[0m\u001b[0;34m(\u001b[0m\u001b[0mpath\u001b[0m\u001b[0;34m)\u001b[0m\u001b[0;34m\u001b[0m\u001b[0;34m\u001b[0m\u001b[0m\n",
      "\u001b[0;31mNameError\u001b[0m: name 'paths' is not defined"
     ]
    }
   ],
   "source": [
    "def laplacian_edge_detector(img_path):\n",
    "    #définition des variables \n",
    "    ddepth = cv.CV_16S\n",
    "    kernel_size = 3\n",
    "    #lecture d'image\n",
    "    src = cv.imread(img_path, cv.IMREAD_COLOR)\n",
    "    #filtrage du bruit par un filtre gaussien\n",
    "    src = cv.GaussianBlur(src, (3, 3), 0)\n",
    "    #transformation de l'image en échelle de gris\n",
    "    src_gray = cv.cvtColor(src, cv.COLOR_BGR2GRAY)\n",
    "    #application du filtre laplacien\n",
    "    lap_edge = cv.Laplacian(src_gray, ddepth, ksize=kernel_size)\n",
    "    #transformation de l'image en uint8\n",
    "    abs_lap = cv.convertScaleAbs(lap_edge)\n",
    "    #enregistrement des images\n",
    "    saved_filename = 'laplacian_' + path\n",
    "    cv.imwrite(saved_filename, abs_lap)\n",
    "\n",
    "for path in paths:\n",
    "    laplacian_edge_detector(path)"
   ]
  },
  {
   "cell_type": "markdown",
   "id": "9f25bc50",
   "metadata": {},
   "source": [
    "# Méthode Optimisée basée sur le dérivée première   ($\\frac{\\partial }{\\partial x}, \\frac{\\partial }{\\partial y}$)"
   ]
  },
  {
   "cell_type": "markdown",
   "id": "7e38a78c",
   "metadata": {},
   "source": [
    "#### Filtre de Canny"
   ]
  },
  {
   "cell_type": "code",
   "execution_count": 24,
   "id": "abbadaa6",
   "metadata": {},
   "outputs": [],
   "source": [
    "def canny_edge_detector(img_path):\n",
    "    #définition des variables\n",
    "    aperture_size = 5\n",
    "    t_lower = 200\n",
    "    t_upper = 2000\n",
    "    #lecture d'image\n",
    "    src = cv.imread(img_path, cv.IMREAD_COLOR) \n",
    "    #filtrage du bruit par un filtre gaussien\n",
    "    src = cv.GaussianBlur(src, (3, 3), 0)\n",
    "    #transformation de l'image en échelle de gris\n",
    "    src_gray = cv.cvtColor(src, cv.COLOR_BGR2GRAY)\n",
    "    #application du filtre Canny\n",
    "    canny_edge = cv.Canny(src_gray, t_lower, t_upper, apertureSize=aperture_size, \n",
    "                          L2gradient = True)\n",
    "    #application \n",
    "    abs_canny = cv.convertScaleAbs(canny_edge)\n",
    "    #enregistrement des images\n",
    "    saved_filename = 'canny_' + path\n",
    "    cv.imwrite(saved_filename, abs_canny)\n",
    "    \n",
    "    edge = cv.Canny(src_gray, t_lower, t_upper, \n",
    "                     apertureSize=aperture_size)\n",
    "\n",
    "for path in paths:\n",
    "    canny_edge_detector(path)"
   ]
  }
 ],
 "metadata": {
  "kernelspec": {
   "display_name": "Python 3",
   "language": "python",
   "name": "python3"
  },
  "language_info": {
   "codemirror_mode": {
    "name": "ipython",
    "version": 3
   },
   "file_extension": ".py",
   "mimetype": "text/x-python",
   "name": "python",
   "nbconvert_exporter": "python",
   "pygments_lexer": "ipython3",
   "version": "3.8.8"
  }
 },
 "nbformat": 4,
 "nbformat_minor": 5
}
